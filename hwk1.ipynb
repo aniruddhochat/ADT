{
  "cells": [
    {
      "cell_type": "markdown",
      "metadata": {
        "id": "view-in-github",
        "colab_type": "text"
      },
      "source": [
        "<a href=\"https://colab.research.google.com/github/aniruddhochat/ADT/blob/main/hwk1.ipynb\" target=\"_parent\"><img src=\"https://colab.research.google.com/assets/colab-badge.svg\" alt=\"Open In Colab\"/></a>"
      ]
    },
    {
      "cell_type": "markdown",
      "metadata": {
        "id": "TrnJDMuyHpyU"
      },
      "source": [
        "# Homework 1\n",
        "\n",
        "- D-532 Spring 23\n",
        "- Aniruddho Chatterjee"
      ]
    },
    {
      "cell_type": "markdown",
      "metadata": {
        "id": "TJnq2beaHpyW"
      },
      "source": [
        "## Part 1 Import tables - 25pts"
      ]
    },
    {
      "cell_type": "markdown",
      "metadata": {
        "id": "wE4O16unHpyX"
      },
      "source": [
        "Step 1. Create db named hwk1."
      ]
    },
    {
      "cell_type": "code",
      "source": [
        "import sqlite3\n",
        "import pandas as pd"
      ],
      "metadata": {
        "id": "ZBPzJHXGUygC"
      },
      "execution_count": 19,
      "outputs": []
    },
    {
      "cell_type": "code",
      "execution_count": 3,
      "metadata": {
        "id": "01kcD_92HpyX"
      },
      "outputs": [],
      "source": [
        "conn=sqlite3.connect('hwk1.db')\n",
        "c=conn.cursor()"
      ]
    },
    {
      "cell_type": "markdown",
      "metadata": {
        "id": "NNoGIZBpHpyY"
      },
      "source": [
        "Step 2. Import ``income.csv``"
      ]
    },
    {
      "cell_type": "code",
      "execution_count": 4,
      "metadata": {
        "colab": {
          "base_uri": "https://localhost:8080/",
          "height": 0
        },
        "id": "-65OYrxQHpyY",
        "outputId": "c8751f4a-6bb3-47c6-b7f7-92b58a2d4098"
      },
      "outputs": [
        {
          "output_type": "stream",
          "name": "stdout",
          "text": [
            "Mounted at /content/drive\n"
          ]
        }
      ],
      "source": [
        "from google.colab import drive\n",
        "drive.mount('/content/drive')"
      ]
    },
    {
      "cell_type": "code",
      "execution_count": 6,
      "metadata": {
        "id": "_Y2Qt178HpyY"
      },
      "outputs": [],
      "source": [
        "read_income = pd.read_csv(r'/content/drive/MyDrive/ADT/income.csv')\n",
        "read_income.to_sql('income', conn, if_exists='append', index = False) "
      ]
    },
    {
      "cell_type": "markdown",
      "metadata": {
        "id": "qOSEfu0AHpyZ"
      },
      "source": [
        "Step 3. Print Column names. Note - cursor with query execution has been created. Add code to extract column names.\n",
        "- All_weekly = average weekly income\n",
        "- M_weekly = Male employees weekly income\n",
        "- F_weekly = Female employees weekly income"
      ]
    },
    {
      "cell_type": "code",
      "execution_count": 10,
      "metadata": {
        "colab": {
          "base_uri": "https://localhost:8080/",
          "height": 0
        },
        "id": "dCR45YOEHpyZ",
        "outputId": "17ec6758-07bb-43d2-d7ec-41b532ca94de"
      },
      "outputs": [
        {
          "output_type": "stream",
          "name": "stdout",
          "text": [
            "Occupation\n",
            "Industry\n",
            "All_workers\n",
            "All_weekly\n",
            "M_workers\n",
            "M_weekly\n",
            "F_workers\n",
            "F_weekly\n"
          ]
        }
      ],
      "source": [
        "colnames = c.description\n",
        "for row in colnames:\n",
        "    print(row[0])"
      ]
    },
    {
      "cell_type": "markdown",
      "metadata": {
        "id": "s5IyR_73HpyZ"
      },
      "source": [
        "Step 4. Select records where weeklly income (All_weekly) is greater than 2000"
      ]
    },
    {
      "cell_type": "code",
      "execution_count": 11,
      "metadata": {
        "colab": {
          "base_uri": "https://localhost:8080/",
          "height": 0
        },
        "id": "vl9Mm1H7Hpya",
        "outputId": "af2ada06-bacf-4731-813f-ddb7cac07b6e"
      },
      "outputs": [
        {
          "output_type": "stream",
          "name": "stdout",
          "text": [
            "('Chief executives', 'Management', 1046, 2041, 763, 2251, 283, 1836)\n"
          ]
        }
      ],
      "source": [
        "for row in c.execute('''\n",
        "select * from income where all_weekly>2000\n",
        "'''):\n",
        "    print(row)"
      ]
    },
    {
      "cell_type": "markdown",
      "metadata": {
        "id": "Kb15wZwmHpya"
      },
      "source": [
        "Step 5. Select occupations and average weekly income in Business industry  and where Female employees weekly income is greater than male employees weekly income. Convert results into dataframe and name columns as Job and Income."
      ]
    },
    {
      "cell_type": "code",
      "execution_count": 16,
      "metadata": {
        "colab": {
          "base_uri": "https://localhost:8080/",
          "height": 0
        },
        "id": "ywbz7JS7Hpya",
        "outputId": "6482fdde-4185-4fa4-a8ed-eb312a4c3c28"
      },
      "outputs": [
        {
          "output_type": "stream",
          "name": "stdout",
          "text": [
            "                                                 Job  Income\n",
            "0  Wholesale and retail buyers, except farm products     926\n"
          ]
        }
      ],
      "source": [
        "c.execute('''\n",
        "select occupation,all_weekly from income \n",
        "where F_weekly>M_weekly and industry='Business'\n",
        "''')\n",
        "\n",
        "df = pd.DataFrame(c.fetchall(), columns=['Job',\n",
        "'Income'])\n",
        "print(df)"
      ]
    },
    {
      "cell_type": "markdown",
      "metadata": {
        "id": "cOYniPR7Hpya"
      },
      "source": [
        "Step 6. You need to print the list of industries used in your database. Like you would use set() in python, you will use ```distinct``` with your column name to remove duplicate names. Print the results.\n",
        " "
      ]
    },
    {
      "cell_type": "code",
      "execution_count": 18,
      "metadata": {
        "colab": {
          "base_uri": "https://localhost:8080/",
          "height": 0
        },
        "id": "iFEDBRg3Hpyb",
        "outputId": "88669e8c-a827-4227-f274-7f07043be4bc"
      },
      "outputs": [
        {
          "output_type": "stream",
          "name": "stdout",
          "text": [
            "                   Industry\n",
            "0                Management\n",
            "1   Healthcare Professional\n",
            "2                     Legal\n",
            "3               Engineering\n",
            "4             Computational\n",
            "5                  Business\n",
            "6                      Arts\n",
            "7                   Science\n",
            "8                 Education\n",
            "9        Protective Service\n",
            "10           Social Service\n",
            "11                    Sales\n",
            "12                   Office\n",
            "13                  Service\n",
            "14           Transportation\n",
            "15               Production\n",
            "16           Groundskeeping\n",
            "17                 Culinary\n",
            "18       Healthcare Support\n",
            "19             Agricultural\n"
          ]
        }
      ],
      "source": [
        "c.execute('''\n",
        "select distinct industry from income\n",
        "''')\n",
        "\n",
        "df = pd.DataFrame(c.fetchall(), columns=['Industry'])\n",
        "print(df)"
      ]
    },
    {
      "cell_type": "markdown",
      "metadata": {
        "id": "PyWFVOjNHpyb"
      },
      "source": [
        "Step 7. Close cursor and connection"
      ]
    },
    {
      "cell_type": "code",
      "execution_count": null,
      "metadata": {
        "id": "ucBoOWA5Hpyb"
      },
      "outputs": [],
      "source": [
        "conn.close()"
      ]
    },
    {
      "cell_type": "markdown",
      "metadata": {
        "id": "ru3_RZOAHpyb"
      },
      "source": [
        "## Part 2. Database Design - 25pts"
      ]
    },
    {
      "cell_type": "markdown",
      "metadata": {
        "id": "3aTRkNQVHpyc"
      },
      "source": [
        "Q1. If you design a database schema for income data, which attribute(s) would you choose as a primary key? And why?"
      ]
    },
    {
      "cell_type": "markdown",
      "metadata": {
        "id": "Ar-LckvRHpyc"
      },
      "source": [
        "Answer: After analysing the income data, it is evident that all the occupations are unique, hence occupation can be assigned as PK. However, if two different industries have an occupation in common so we cannot keep Occupation alone as PK, then in that case we need to keep the combination of Occupation and Industry as Primary Key."
      ]
    },
    {
      "cell_type": "markdown",
      "metadata": {
        "id": "t7aoxZsoHpyc"
      },
      "source": [
        "Q2. You decided to redisign income database and split into several tables. What changes would you implement?"
      ]
    },
    {
      "cell_type": "markdown",
      "metadata": {
        "id": "UZMRzsXOHpyc"
      },
      "source": [
        "Answer: \n",
        "The income data can initially be split into 3 tables containing \n",
        "*   ALL Weekly income corresponding to Occupation and Industry.\n",
        "*   Male Weekly income corresponding to Occupation and Industry.\n",
        "*   Female Weekly income corresponding to Occupation and Industry.\n",
        "\n",
        "This can further be expanded into \n",
        "*   Industry wise summation of All weekly income.\n",
        "*   Occupation wise summation of All weekly income.\n",
        "*   Industry wise summation of Male weekly income.\n",
        "*   Occupation wise summation of Male weekly income.\n",
        "*   Industry wise summation of Female weekly income.\n",
        "*   Occupation wise summation of Female weekly income."
      ]
    },
    {
      "cell_type": "markdown",
      "metadata": {
        "id": "TcsqlhKJHpyc"
      },
      "source": [
        "Note for submission: convert to PDF and submit"
      ]
    },
    {
      "cell_type": "code",
      "execution_count": null,
      "metadata": {
        "id": "vVBIlCMWHpyd"
      },
      "outputs": [],
      "source": []
    }
  ],
  "metadata": {
    "kernelspec": {
      "display_name": "Python 3",
      "language": "python",
      "name": "python3"
    },
    "language_info": {
      "codemirror_mode": {
        "name": "ipython",
        "version": 3
      },
      "file_extension": ".py",
      "mimetype": "text/x-python",
      "name": "python",
      "nbconvert_exporter": "python",
      "pygments_lexer": "ipython3",
      "version": "3.7.1"
    },
    "colab": {
      "provenance": [],
      "include_colab_link": true
    }
  },
  "nbformat": 4,
  "nbformat_minor": 0
}